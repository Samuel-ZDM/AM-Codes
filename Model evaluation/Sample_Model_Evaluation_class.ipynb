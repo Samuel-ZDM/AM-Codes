{
  "cells": [
    {
      "cell_type": "markdown",
      "metadata": {
        "id": "D-M9GzriuyEb"
      },
      "source": [
        "<h1><b>Utilizando recursos da biblioteca Scikit-Learn para avaliar modelos de Machine Learning</b></h1>\n",
        "<h3>Prof. Dr. Rafael Rieder</h3>\n",
        "<h4>Exemplo para aulas relacionadas ao Aprendizado de Máquina</h4>\n",
        "<h5>Universidade de Passo Fundo. Última atualização: 27/10/2023</h5>"
      ]
    },
    {
      "cell_type": "code",
      "execution_count": 1,
      "metadata": {
        "id": "k2GVcTwYgYVx"
      },
      "outputs": [],
      "source": [
        "# Model Evaluation (Regression and Classification)\n",
        "# Credits: Angelica Lo Duca\n",
        "# Source: https://towardsdatascience.com/model-evaluation-in-scikit-learn-abce32ee4a99\n",
        "\n",
        "# Changed to use as a learning resource in ML class: Rafael Rieder\n",
        "# University of Passo Fundo, 2023\n",
        "\n",
        "# Dataset: https://archive.ics.uci.edu/ml/datasets/wine+quality\n",
        "# Sources:\n",
        "# Dua, D. and Graff, C. (2019). UCI Machine Learning Repository [http://archive.ics.uci.edu/ml]. Irvine, CA: the University of California, School of Information and Computer Science.\n",
        "# P. Cortez, A. Cerdeira, F. Almeida, T. Matos and J. Reis. Modeling wine preferences by data mining from physicochemical properties. In Decision Support Systems, Elsevier, 47(4):547-553, 2009.\n",
        "\n",
        "import pandas as pd\n",
        "import numpy as np\n",
        "import matplotlib.pyplot as plt\n",
        "from sklearn.preprocessing import LabelEncoder\n",
        "from sklearn.preprocessing import MinMaxScaler\n",
        "from sklearn.model_selection import train_test_split\n",
        "from sklearn.metrics import mean_absolute_error,r2_score,mean_squared_error\n",
        "from sklearn.linear_model import LinearRegression, SGDRegressor\n",
        "from sklearn.ensemble import RandomForestRegressor, RandomForestClassifier\n",
        "from sklearn.metrics import precision_score,recall_score,f1_score,accuracy_score\n",
        "from sklearn.metrics import confusion_matrix,ConfusionMatrixDisplay\n",
        "from sklearn.metrics import roc_curve, auc, roc_auc_score, fbeta_score\n",
        "from sklearn.metrics import average_precision_score, precision_recall_curve, PrecisionRecallDisplay\n",
        "from sklearn.tree import DecisionTreeClassifier\n",
        "from sklearn.discriminant_analysis import LinearDiscriminantAnalysis"
      ]
    },
    {
      "cell_type": "markdown",
      "metadata": {
        "id": "rZU9yBG_vx5d"
      },
      "source": [
        "Leitura dos dois arquivos de dados (vinhos tinto e branco), e concatenando-os em um só dataset. Ao final, conferindo o número de colunas e a saída exibindo os primeiros e últimos 5 registros."
      ]
    },
    {
      "cell_type": "code",
      "execution_count": 3,
      "metadata": {
        "id": "tqEb1ozTtjH0"
      },
      "outputs": [
        {
          "name": "stdout",
          "output_type": "stream",
          "text": [
            "(1599, 13)\n",
            "(4898, 13)\n",
            "(6497, 13)\n"
          ]
        },
        {
          "name": "stderr",
          "output_type": "stream",
          "text": [
            "C:\\Users\\samue\\AppData\\Local\\Temp\\ipykernel_10116\\1179723031.py:14: FutureWarning: The frame.append method is deprecated and will be removed from pandas in a future version. Use pandas.concat instead.\n",
            "  df.head(5).append(df.tail(5))\n"
          ]
        },
        {
          "data": {
            "text/html": [
              "<div>\n",
              "<style scoped>\n",
              "    .dataframe tbody tr th:only-of-type {\n",
              "        vertical-align: middle;\n",
              "    }\n",
              "\n",
              "    .dataframe tbody tr th {\n",
              "        vertical-align: top;\n",
              "    }\n",
              "\n",
              "    .dataframe thead th {\n",
              "        text-align: right;\n",
              "    }\n",
              "</style>\n",
              "<table border=\"1\" class=\"dataframe\">\n",
              "  <thead>\n",
              "    <tr style=\"text-align: right;\">\n",
              "      <th></th>\n",
              "      <th>fixed acidity</th>\n",
              "      <th>volatile acidity</th>\n",
              "      <th>citric acid</th>\n",
              "      <th>residual sugar</th>\n",
              "      <th>chlorides</th>\n",
              "      <th>free sulfur dioxide</th>\n",
              "      <th>total sulfur dioxide</th>\n",
              "      <th>density</th>\n",
              "      <th>pH</th>\n",
              "      <th>sulphates</th>\n",
              "      <th>alcohol</th>\n",
              "      <th>quality</th>\n",
              "      <th>target</th>\n",
              "    </tr>\n",
              "  </thead>\n",
              "  <tbody>\n",
              "    <tr>\n",
              "      <th>0</th>\n",
              "      <td>7.4</td>\n",
              "      <td>0.70</td>\n",
              "      <td>0.00</td>\n",
              "      <td>1.9</td>\n",
              "      <td>0.076</td>\n",
              "      <td>11.0</td>\n",
              "      <td>34.0</td>\n",
              "      <td>0.99780</td>\n",
              "      <td>3.51</td>\n",
              "      <td>0.56</td>\n",
              "      <td>9.4</td>\n",
              "      <td>5</td>\n",
              "      <td>red</td>\n",
              "    </tr>\n",
              "    <tr>\n",
              "      <th>1</th>\n",
              "      <td>7.8</td>\n",
              "      <td>0.88</td>\n",
              "      <td>0.00</td>\n",
              "      <td>2.6</td>\n",
              "      <td>0.098</td>\n",
              "      <td>25.0</td>\n",
              "      <td>67.0</td>\n",
              "      <td>0.99680</td>\n",
              "      <td>3.20</td>\n",
              "      <td>0.68</td>\n",
              "      <td>9.8</td>\n",
              "      <td>5</td>\n",
              "      <td>red</td>\n",
              "    </tr>\n",
              "    <tr>\n",
              "      <th>2</th>\n",
              "      <td>7.8</td>\n",
              "      <td>0.76</td>\n",
              "      <td>0.04</td>\n",
              "      <td>2.3</td>\n",
              "      <td>0.092</td>\n",
              "      <td>15.0</td>\n",
              "      <td>54.0</td>\n",
              "      <td>0.99700</td>\n",
              "      <td>3.26</td>\n",
              "      <td>0.65</td>\n",
              "      <td>9.8</td>\n",
              "      <td>5</td>\n",
              "      <td>red</td>\n",
              "    </tr>\n",
              "    <tr>\n",
              "      <th>3</th>\n",
              "      <td>11.2</td>\n",
              "      <td>0.28</td>\n",
              "      <td>0.56</td>\n",
              "      <td>1.9</td>\n",
              "      <td>0.075</td>\n",
              "      <td>17.0</td>\n",
              "      <td>60.0</td>\n",
              "      <td>0.99800</td>\n",
              "      <td>3.16</td>\n",
              "      <td>0.58</td>\n",
              "      <td>9.8</td>\n",
              "      <td>6</td>\n",
              "      <td>red</td>\n",
              "    </tr>\n",
              "    <tr>\n",
              "      <th>4</th>\n",
              "      <td>7.4</td>\n",
              "      <td>0.70</td>\n",
              "      <td>0.00</td>\n",
              "      <td>1.9</td>\n",
              "      <td>0.076</td>\n",
              "      <td>11.0</td>\n",
              "      <td>34.0</td>\n",
              "      <td>0.99780</td>\n",
              "      <td>3.51</td>\n",
              "      <td>0.56</td>\n",
              "      <td>9.4</td>\n",
              "      <td>5</td>\n",
              "      <td>red</td>\n",
              "    </tr>\n",
              "    <tr>\n",
              "      <th>4893</th>\n",
              "      <td>6.2</td>\n",
              "      <td>0.21</td>\n",
              "      <td>0.29</td>\n",
              "      <td>1.6</td>\n",
              "      <td>0.039</td>\n",
              "      <td>24.0</td>\n",
              "      <td>92.0</td>\n",
              "      <td>0.99114</td>\n",
              "      <td>3.27</td>\n",
              "      <td>0.50</td>\n",
              "      <td>11.2</td>\n",
              "      <td>6</td>\n",
              "      <td>white</td>\n",
              "    </tr>\n",
              "    <tr>\n",
              "      <th>4894</th>\n",
              "      <td>6.6</td>\n",
              "      <td>0.32</td>\n",
              "      <td>0.36</td>\n",
              "      <td>8.0</td>\n",
              "      <td>0.047</td>\n",
              "      <td>57.0</td>\n",
              "      <td>168.0</td>\n",
              "      <td>0.99490</td>\n",
              "      <td>3.15</td>\n",
              "      <td>0.46</td>\n",
              "      <td>9.6</td>\n",
              "      <td>5</td>\n",
              "      <td>white</td>\n",
              "    </tr>\n",
              "    <tr>\n",
              "      <th>4895</th>\n",
              "      <td>6.5</td>\n",
              "      <td>0.24</td>\n",
              "      <td>0.19</td>\n",
              "      <td>1.2</td>\n",
              "      <td>0.041</td>\n",
              "      <td>30.0</td>\n",
              "      <td>111.0</td>\n",
              "      <td>0.99254</td>\n",
              "      <td>2.99</td>\n",
              "      <td>0.46</td>\n",
              "      <td>9.4</td>\n",
              "      <td>6</td>\n",
              "      <td>white</td>\n",
              "    </tr>\n",
              "    <tr>\n",
              "      <th>4896</th>\n",
              "      <td>5.5</td>\n",
              "      <td>0.29</td>\n",
              "      <td>0.30</td>\n",
              "      <td>1.1</td>\n",
              "      <td>0.022</td>\n",
              "      <td>20.0</td>\n",
              "      <td>110.0</td>\n",
              "      <td>0.98869</td>\n",
              "      <td>3.34</td>\n",
              "      <td>0.38</td>\n",
              "      <td>12.8</td>\n",
              "      <td>7</td>\n",
              "      <td>white</td>\n",
              "    </tr>\n",
              "    <tr>\n",
              "      <th>4897</th>\n",
              "      <td>6.0</td>\n",
              "      <td>0.21</td>\n",
              "      <td>0.38</td>\n",
              "      <td>0.8</td>\n",
              "      <td>0.020</td>\n",
              "      <td>22.0</td>\n",
              "      <td>98.0</td>\n",
              "      <td>0.98941</td>\n",
              "      <td>3.26</td>\n",
              "      <td>0.32</td>\n",
              "      <td>11.8</td>\n",
              "      <td>6</td>\n",
              "      <td>white</td>\n",
              "    </tr>\n",
              "  </tbody>\n",
              "</table>\n",
              "</div>"
            ],
            "text/plain": [
              "      fixed acidity  volatile acidity  citric acid  residual sugar  chlorides  \\\n",
              "0               7.4              0.70         0.00             1.9      0.076   \n",
              "1               7.8              0.88         0.00             2.6      0.098   \n",
              "2               7.8              0.76         0.04             2.3      0.092   \n",
              "3              11.2              0.28         0.56             1.9      0.075   \n",
              "4               7.4              0.70         0.00             1.9      0.076   \n",
              "4893            6.2              0.21         0.29             1.6      0.039   \n",
              "4894            6.6              0.32         0.36             8.0      0.047   \n",
              "4895            6.5              0.24         0.19             1.2      0.041   \n",
              "4896            5.5              0.29         0.30             1.1      0.022   \n",
              "4897            6.0              0.21         0.38             0.8      0.020   \n",
              "\n",
              "      free sulfur dioxide  total sulfur dioxide  density    pH  sulphates  \\\n",
              "0                    11.0                  34.0  0.99780  3.51       0.56   \n",
              "1                    25.0                  67.0  0.99680  3.20       0.68   \n",
              "2                    15.0                  54.0  0.99700  3.26       0.65   \n",
              "3                    17.0                  60.0  0.99800  3.16       0.58   \n",
              "4                    11.0                  34.0  0.99780  3.51       0.56   \n",
              "4893                 24.0                  92.0  0.99114  3.27       0.50   \n",
              "4894                 57.0                 168.0  0.99490  3.15       0.46   \n",
              "4895                 30.0                 111.0  0.99254  2.99       0.46   \n",
              "4896                 20.0                 110.0  0.98869  3.34       0.38   \n",
              "4897                 22.0                  98.0  0.98941  3.26       0.32   \n",
              "\n",
              "      alcohol  quality target  \n",
              "0         9.4        5    red  \n",
              "1         9.8        5    red  \n",
              "2         9.8        5    red  \n",
              "3         9.8        6    red  \n",
              "4         9.4        5    red  \n",
              "4893     11.2        6  white  \n",
              "4894      9.6        5  white  \n",
              "4895      9.4        6  white  \n",
              "4896     12.8        7  white  \n",
              "4897     11.8        6  white  "
            ]
          },
          "execution_count": 3,
          "metadata": {},
          "output_type": "execute_result"
        }
      ],
      "source": [
        "targets = ['red', 'white']\n",
        "df_list = []\n",
        "df = pd.DataFrame()\n",
        "mypath = f\"\"\n",
        "for target in targets:\n",
        "    df_temp = pd.read_csv(mypath + f\"winequality-{target}.csv\", sep=';')\n",
        "    df_temp['target'] = target\n",
        "    df_list.append(df_temp)\n",
        "    print(df_temp.shape)\n",
        "df = pd.concat([df_list[0], df_list[1]])\n",
        "\n",
        "print(df.shape)\n",
        "\n",
        "df.head(5).append(df.tail(5))"
      ]
    },
    {
      "cell_type": "markdown",
      "metadata": {
        "id": "qwOAqz0Tw7lW"
      },
      "source": [
        "Função para codificar e transformar dados categóricos em numéricos. Para tanto, trabalhamos apenas com colunas do tipo \"object\" (e evitar em mexer em dados que já são numéricos)."
      ]
    },
    {
      "cell_type": "code",
      "execution_count": 4,
      "metadata": {
        "id": "WmbsX_O9kaJV"
      },
      "outputs": [],
      "source": [
        "def transform_categorical(data):\n",
        "    categories = (data.dtypes ==\"object\")\n",
        "    cat_cols = list(categories[categories].index)\n",
        "    label_encoder = LabelEncoder()\n",
        "    for col in cat_cols:\n",
        "        data[col] = label_encoder.fit_transform(data[col])"
      ]
    },
    {
      "cell_type": "markdown",
      "metadata": {
        "id": "ZDKUJtDZxPRx"
      },
      "source": [
        "Função para dimensionar colunas numéricas (transformar as características dos dados, para deixá-las na mesma escala em um determinado intervalo - no caso, entre 0 e 1)."
      ]
    },
    {
      "cell_type": "code",
      "execution_count": 5,
      "metadata": {
        "id": "4GDD8scInrcS"
      },
      "outputs": [],
      "source": [
        "def scale_numerical(data):\n",
        "    scaler = MinMaxScaler()\n",
        "    data[data.columns] = scaler.fit_transform(data[data.columns])"
      ]
    },
    {
      "cell_type": "markdown",
      "metadata": {
        "id": "atz7R_V80wyI"
      },
      "source": [
        "<h2><b>Avaliando modelos de regressão</b></h2>\n",
        "<p>Métricas a serem aplicadas:</p>\n",
        "\n",
        "\n",
        "*   Erro médio absoluto (MAE): a média da diferença entre o valor real e o previsto. Ele mede a distância entre as previsões e a saída real. Quanto menor o MAE, melhor o modelo;\n",
        "*   Raiz quadrada do erro médio (RMSE): a raiz quadrada do erro quadrático médio (MSE) calcula a média do quadrado da diferença entre os valores reais e os previstos. Usada para expressar a acurácia dos resultados numéricos;\n",
        "*   R² score (coeficiente de determinação): proporção de variância em Y que pode ser explicada por X. Mostra quanto o modelo se ajusta à amostra (quanto maior o R², melhor o ajuste).\n",
        "\n"
      ]
    },
    {
      "cell_type": "markdown",
      "metadata": {
        "id": "KNebrZwd2aNP"
      },
      "source": [
        "<u>Tarefa: prever o pH de cada registro, considerando as demais características.</u>\n",
        "Começamos retirando a coluna de pH do conjunto, salvando essa estrutura em X.\n",
        "Em seguida, salvamos só a coluna pH em Y."
      ]
    },
    {
      "cell_type": "code",
      "execution_count": 6,
      "metadata": {
        "id": "TH1i8Fhuo5Qw"
      },
      "outputs": [],
      "source": [
        "X = df.drop(\"pH\", axis = 1)\n",
        "y = df[\"pH\"]"
      ]
    },
    {
      "cell_type": "markdown",
      "metadata": {
        "id": "re6iPIwG3EMO"
      },
      "source": [
        "Transformando categorias em números, e normalizando números na escala 0-1:"
      ]
    },
    {
      "cell_type": "code",
      "execution_count": 7,
      "metadata": {
        "id": "H4_gMY1Ko5v1"
      },
      "outputs": [
        {
          "name": "stderr",
          "output_type": "stream",
          "text": [
            "C:\\Users\\samue\\AppData\\Local\\Temp\\ipykernel_10116\\301952732.py:3: FutureWarning: The frame.append method is deprecated and will be removed from pandas in a future version. Use pandas.concat instead.\n",
            "  X.head(5).append(X.tail(5))\n"
          ]
        },
        {
          "data": {
            "text/html": [
              "<div>\n",
              "<style scoped>\n",
              "    .dataframe tbody tr th:only-of-type {\n",
              "        vertical-align: middle;\n",
              "    }\n",
              "\n",
              "    .dataframe tbody tr th {\n",
              "        vertical-align: top;\n",
              "    }\n",
              "\n",
              "    .dataframe thead th {\n",
              "        text-align: right;\n",
              "    }\n",
              "</style>\n",
              "<table border=\"1\" class=\"dataframe\">\n",
              "  <thead>\n",
              "    <tr style=\"text-align: right;\">\n",
              "      <th></th>\n",
              "      <th>fixed acidity</th>\n",
              "      <th>volatile acidity</th>\n",
              "      <th>citric acid</th>\n",
              "      <th>residual sugar</th>\n",
              "      <th>chlorides</th>\n",
              "      <th>free sulfur dioxide</th>\n",
              "      <th>total sulfur dioxide</th>\n",
              "      <th>density</th>\n",
              "      <th>sulphates</th>\n",
              "      <th>alcohol</th>\n",
              "      <th>quality</th>\n",
              "      <th>target</th>\n",
              "    </tr>\n",
              "  </thead>\n",
              "  <tbody>\n",
              "    <tr>\n",
              "      <th>0</th>\n",
              "      <td>0.297521</td>\n",
              "      <td>0.413333</td>\n",
              "      <td>0.000000</td>\n",
              "      <td>0.019939</td>\n",
              "      <td>0.111296</td>\n",
              "      <td>0.034722</td>\n",
              "      <td>0.064516</td>\n",
              "      <td>0.206092</td>\n",
              "      <td>0.191011</td>\n",
              "      <td>0.202899</td>\n",
              "      <td>0.333333</td>\n",
              "      <td>0.0</td>\n",
              "    </tr>\n",
              "    <tr>\n",
              "      <th>1</th>\n",
              "      <td>0.330579</td>\n",
              "      <td>0.533333</td>\n",
              "      <td>0.000000</td>\n",
              "      <td>0.030675</td>\n",
              "      <td>0.147841</td>\n",
              "      <td>0.083333</td>\n",
              "      <td>0.140553</td>\n",
              "      <td>0.186813</td>\n",
              "      <td>0.258427</td>\n",
              "      <td>0.260870</td>\n",
              "      <td>0.333333</td>\n",
              "      <td>0.0</td>\n",
              "    </tr>\n",
              "    <tr>\n",
              "      <th>2</th>\n",
              "      <td>0.330579</td>\n",
              "      <td>0.453333</td>\n",
              "      <td>0.024096</td>\n",
              "      <td>0.026074</td>\n",
              "      <td>0.137874</td>\n",
              "      <td>0.048611</td>\n",
              "      <td>0.110599</td>\n",
              "      <td>0.190669</td>\n",
              "      <td>0.241573</td>\n",
              "      <td>0.260870</td>\n",
              "      <td>0.333333</td>\n",
              "      <td>0.0</td>\n",
              "    </tr>\n",
              "    <tr>\n",
              "      <th>3</th>\n",
              "      <td>0.611570</td>\n",
              "      <td>0.133333</td>\n",
              "      <td>0.337349</td>\n",
              "      <td>0.019939</td>\n",
              "      <td>0.109635</td>\n",
              "      <td>0.055556</td>\n",
              "      <td>0.124424</td>\n",
              "      <td>0.209948</td>\n",
              "      <td>0.202247</td>\n",
              "      <td>0.260870</td>\n",
              "      <td>0.500000</td>\n",
              "      <td>0.0</td>\n",
              "    </tr>\n",
              "    <tr>\n",
              "      <th>4</th>\n",
              "      <td>0.297521</td>\n",
              "      <td>0.413333</td>\n",
              "      <td>0.000000</td>\n",
              "      <td>0.019939</td>\n",
              "      <td>0.111296</td>\n",
              "      <td>0.034722</td>\n",
              "      <td>0.064516</td>\n",
              "      <td>0.206092</td>\n",
              "      <td>0.191011</td>\n",
              "      <td>0.202899</td>\n",
              "      <td>0.333333</td>\n",
              "      <td>0.0</td>\n",
              "    </tr>\n",
              "    <tr>\n",
              "      <th>4893</th>\n",
              "      <td>0.198347</td>\n",
              "      <td>0.086667</td>\n",
              "      <td>0.174699</td>\n",
              "      <td>0.015337</td>\n",
              "      <td>0.049834</td>\n",
              "      <td>0.079861</td>\n",
              "      <td>0.198157</td>\n",
              "      <td>0.077694</td>\n",
              "      <td>0.157303</td>\n",
              "      <td>0.463768</td>\n",
              "      <td>0.500000</td>\n",
              "      <td>1.0</td>\n",
              "    </tr>\n",
              "    <tr>\n",
              "      <th>4894</th>\n",
              "      <td>0.231405</td>\n",
              "      <td>0.160000</td>\n",
              "      <td>0.216867</td>\n",
              "      <td>0.113497</td>\n",
              "      <td>0.063123</td>\n",
              "      <td>0.194444</td>\n",
              "      <td>0.373272</td>\n",
              "      <td>0.150183</td>\n",
              "      <td>0.134831</td>\n",
              "      <td>0.231884</td>\n",
              "      <td>0.333333</td>\n",
              "      <td>1.0</td>\n",
              "    </tr>\n",
              "    <tr>\n",
              "      <th>4895</th>\n",
              "      <td>0.223140</td>\n",
              "      <td>0.106667</td>\n",
              "      <td>0.114458</td>\n",
              "      <td>0.009202</td>\n",
              "      <td>0.053156</td>\n",
              "      <td>0.100694</td>\n",
              "      <td>0.241935</td>\n",
              "      <td>0.104685</td>\n",
              "      <td>0.134831</td>\n",
              "      <td>0.202899</td>\n",
              "      <td>0.500000</td>\n",
              "      <td>1.0</td>\n",
              "    </tr>\n",
              "    <tr>\n",
              "      <th>4896</th>\n",
              "      <td>0.140496</td>\n",
              "      <td>0.140000</td>\n",
              "      <td>0.180723</td>\n",
              "      <td>0.007669</td>\n",
              "      <td>0.021595</td>\n",
              "      <td>0.065972</td>\n",
              "      <td>0.239631</td>\n",
              "      <td>0.030461</td>\n",
              "      <td>0.089888</td>\n",
              "      <td>0.695652</td>\n",
              "      <td>0.666667</td>\n",
              "      <td>1.0</td>\n",
              "    </tr>\n",
              "    <tr>\n",
              "      <th>4897</th>\n",
              "      <td>0.181818</td>\n",
              "      <td>0.086667</td>\n",
              "      <td>0.228916</td>\n",
              "      <td>0.003067</td>\n",
              "      <td>0.018272</td>\n",
              "      <td>0.072917</td>\n",
              "      <td>0.211982</td>\n",
              "      <td>0.044342</td>\n",
              "      <td>0.056180</td>\n",
              "      <td>0.550725</td>\n",
              "      <td>0.500000</td>\n",
              "      <td>1.0</td>\n",
              "    </tr>\n",
              "  </tbody>\n",
              "</table>\n",
              "</div>"
            ],
            "text/plain": [
              "      fixed acidity  volatile acidity  citric acid  residual sugar  chlorides  \\\n",
              "0          0.297521          0.413333     0.000000        0.019939   0.111296   \n",
              "1          0.330579          0.533333     0.000000        0.030675   0.147841   \n",
              "2          0.330579          0.453333     0.024096        0.026074   0.137874   \n",
              "3          0.611570          0.133333     0.337349        0.019939   0.109635   \n",
              "4          0.297521          0.413333     0.000000        0.019939   0.111296   \n",
              "4893       0.198347          0.086667     0.174699        0.015337   0.049834   \n",
              "4894       0.231405          0.160000     0.216867        0.113497   0.063123   \n",
              "4895       0.223140          0.106667     0.114458        0.009202   0.053156   \n",
              "4896       0.140496          0.140000     0.180723        0.007669   0.021595   \n",
              "4897       0.181818          0.086667     0.228916        0.003067   0.018272   \n",
              "\n",
              "      free sulfur dioxide  total sulfur dioxide   density  sulphates  \\\n",
              "0                0.034722              0.064516  0.206092   0.191011   \n",
              "1                0.083333              0.140553  0.186813   0.258427   \n",
              "2                0.048611              0.110599  0.190669   0.241573   \n",
              "3                0.055556              0.124424  0.209948   0.202247   \n",
              "4                0.034722              0.064516  0.206092   0.191011   \n",
              "4893             0.079861              0.198157  0.077694   0.157303   \n",
              "4894             0.194444              0.373272  0.150183   0.134831   \n",
              "4895             0.100694              0.241935  0.104685   0.134831   \n",
              "4896             0.065972              0.239631  0.030461   0.089888   \n",
              "4897             0.072917              0.211982  0.044342   0.056180   \n",
              "\n",
              "       alcohol   quality  target  \n",
              "0     0.202899  0.333333     0.0  \n",
              "1     0.260870  0.333333     0.0  \n",
              "2     0.260870  0.333333     0.0  \n",
              "3     0.260870  0.500000     0.0  \n",
              "4     0.202899  0.333333     0.0  \n",
              "4893  0.463768  0.500000     1.0  \n",
              "4894  0.231884  0.333333     1.0  \n",
              "4895  0.202899  0.500000     1.0  \n",
              "4896  0.695652  0.666667     1.0  \n",
              "4897  0.550725  0.500000     1.0  "
            ]
          },
          "execution_count": 7,
          "metadata": {},
          "output_type": "execute_result"
        }
      ],
      "source": [
        "transform_categorical(X)\n",
        "scale_numerical(X)\n",
        "X.head(5).append(X.tail(5))"
      ]
    },
    {
      "cell_type": "markdown",
      "metadata": {
        "id": "Sg351p013DFa"
      },
      "source": [
        "Dividindo os datasets X e Y em conjuntos de treino e teste.\n",
        "Definiu-se o tamanho do conjunto de teste em 20% (logo, treino será 80%). Já \"random_state\" é usado para reproduzir o problema da mesma forma toda vez que é executado (controla o \"embaralhamento\")."
      ]
    },
    {
      "cell_type": "code",
      "execution_count": 21,
      "metadata": {
        "id": "2dgvkq4Eo7ni"
      },
      "outputs": [],
      "source": [
        "X_train, X_test, y_train, y_test = train_test_split(X, y, test_size=0.20, random_state=42)"
      ]
    },
    {
      "cell_type": "markdown",
      "metadata": {
        "id": "9cTwPAH45MM0"
      },
      "source": [
        "Função para rodar o modelo (fit), realizar as predições (predict) e calcular os scores de desempenho) para técnicas de Regressão aplicadas."
      ]
    },
    {
      "cell_type": "code",
      "execution_count": 9,
      "metadata": {
        "id": "0BhwrcMqo-FY"
      },
      "outputs": [
        {
          "name": "stdout",
          "output_type": "stream",
          "text": [
            "Resultados do experimento de regressão:\n",
            "Mean Squared Error (MSE): 0.009528382991175985\n",
            "Mean Absolute Error (MAE): 0.07476031320105746\n",
            "R-squared (R2): 0.6508427991759349\n"
          ]
        }
      ],
      "source": []
    },
    {
      "cell_type": "markdown",
      "metadata": {
        "id": "1s_As9ZT5blX"
      },
      "source": [
        "Construindo um modelo de Regressão Linear, e testando seu desempenho na predição de resultados:"
      ]
    },
    {
      "cell_type": "code",
      "execution_count": 28,
      "metadata": {
        "id": "z-hy8CLPpBZN"
      },
      "outputs": [
        {
          "name": "stdout",
          "output_type": "stream",
          "text": [
            "Resultados do experimento de regressão:\n",
            "R Mean Squared Error (MSE): 0.16552521873854248\n",
            "Mean Absolute Error (MAE): 0.11955029528691485\n",
            "R-squared (R2): 0.8584069100420234\n"
          ]
        }
      ],
      "source": [
        "def run_experiment_regression(model, X, y):\n",
        "   \n",
        "    # Ajustar o modelo aos dados de treinamento\n",
        "    model.fit(X_train, y_train)\n",
        "    \n",
        "    # Fazer previsões nos dados de teste\n",
        "    y_pred = model.predict(X_test)\n",
        "    \n",
        "    # Calcular métricas de desempenho\n",
        "    rmse = np.sqrt(mean_squared_error(y_test, y_pred))\n",
        "    mae = mean_absolute_error(y_test, y_pred)\n",
        "    r2 = r2_score(y_test, y_pred)\n",
        "    \n",
        "    # Retornar as métricas de desempenho\n",
        "    return {\n",
        "        \"R Mean Squared Error (MSE)\": rmse,\n",
        "        \"Mean Absolute Error (MAE)\": mae,\n",
        "        \"R-squared (R2)\": r2\n",
        "    }\n",
        "\n",
        "# Exemplo de uso com uma regressão linear\n",
        "from sklearn.linear_model import LinearRegression\n",
        "\n",
        "# Criar um modelo de regressão linear\n",
        "modelo_regressao_linear = LinearRegression()\n",
        "\n",
        "# Executar o experimento\n",
        "resultados = run_experiment_regression(modelo_regressao_linear, X, y)\n",
        "\n",
        "# Imprimir os resultados\n",
        "print(\"Resultados do experimento de regressão:\")\n",
        "for metric, valor in resultados.items():\n",
        "    print(f\"{metric}: {valor}\")\n",
        "    # inserir código aqui"
      ]
    },
    {
      "cell_type": "markdown",
      "metadata": {
        "id": "QCl-Sw_U5iBD"
      },
      "source": [
        "Construindo um modelo de Gradiente Descendente Estocástico, e testando seu desempenho na predição de resultados:"
      ]
    },
    {
      "cell_type": "code",
      "execution_count": 10,
      "metadata": {
        "id": "nsojw61GpDBn"
      },
      "outputs": [
        {
          "name": "stdout",
          "output_type": "stream",
          "text": [
            "Métricas de desempenho do modelo de Gradiente Descendente Estocástico:\n",
            "Mean Squared Error (MSE): 0.03578721374304392\n",
            "Mean Absolute Error (MAE): 0.14809500235285958\n",
            "R-squared (R2): -0.3113834096913817\n"
          ]
        }
      ],
      "source": [
        "X_train, X_test, y_train, y_test = train_test_split(X, y, test_size=0.20, random_state=42)\n",
        "\n",
        "# Criar um modelo de Gradiente Descendente Estocástico para regressão\n",
        "modelo_sgd = SGDRegressor(random_state=42)\n",
        "\n",
        "# Ajustar o modelo aos dados de treinamento\n",
        "modelo_sgd.fit(X_train, y_train)\n",
        "\n",
        "# Fazer previsões nos dados de teste\n",
        "y_pred = modelo_sgd.predict(X_test)\n",
        "\n",
        "# Calcular métricas de desempenho\n",
        "mse = mean_squared_error(y_test, y_pred)\n",
        "mae = mean_absolute_error(y_test, y_pred)\n",
        "r2 = r2_score(y_test, y_pred)\n",
        "\n",
        "# Imprimir os resultados\n",
        "print(\"Métricas de desempenho do modelo de Gradiente Descendente Estocástico:\")\n",
        "print(f\"Mean Squared Error (MSE): {mse}\")\n",
        "print(f\"Mean Absolute Error (MAE): {mae}\")\n",
        "print(f\"R-squared (R2): {r2}\")"
      ]
    },
    {
      "cell_type": "markdown",
      "metadata": {
        "id": "K7IfsL1gXQLb"
      },
      "source": [
        "Construindo um modelo de regressão Random Forest, e testando seu desempenho na predição de resultados:"
      ]
    },
    {
      "cell_type": "code",
      "execution_count": 11,
      "metadata": {
        "id": "_gVTofvmWsZJ"
      },
      "outputs": [
        {
          "name": "stdout",
          "output_type": "stream",
          "text": [
            "Métricas de desempenho do modelo de regressão Random Forest:\n",
            "Mean Squared Error (MSE): 0.006947956984615391\n",
            "Mean Absolute Error (MAE): 0.05862015384615388\n",
            "R-squared (R2): 0.7453996953689919\n"
          ]
        }
      ],
      "source": [
        "# Dividir os dados em conjuntos de treinamento e teste\n",
        "X_train, X_test, y_train, y_test = train_test_split(X, y, test_size=0.20, random_state=42)\n",
        "\n",
        "# Criar um modelo de regressão Random Forest\n",
        "modelo_random_forest = RandomForestRegressor(random_state=42)\n",
        "\n",
        "# Ajustar o modelo aos dados de treinamento\n",
        "modelo_random_forest.fit(X_train, y_train)\n",
        "\n",
        "# Fazer previsões nos dados de teste\n",
        "y_pred = modelo_random_forest.predict(X_test)\n",
        "\n",
        "# Calcular métricas de desempenho\n",
        "mse = mean_squared_error(y_test, y_pred)\n",
        "mae = mean_absolute_error(y_test, y_pred)\n",
        "r2 = r2_score(y_test, y_pred)\n",
        "\n",
        "# Imprimir os resultados\n",
        "print(\"Métricas de desempenho do modelo de regressão Random Forest:\")\n",
        "print(f\"Mean Squared Error (MSE): {mse}\")\n",
        "print(f\"Mean Absolute Error (MAE): {mae}\")\n",
        "print(f\"R-squared (R2): {r2}\")"
      ]
    },
    {
      "cell_type": "markdown",
      "metadata": {
        "id": "c7FnsL-o585y"
      },
      "source": [
        "<h2><b>Avaliando modelos de classificação</b></h2>\n",
        "<p>Métricas a serem aplicadas: </p>\n",
        "\n",
        "*   Matriz de confusão: gráfico para verificar verdadeiros positivos, verdadeiros negativos, falsos positivos e falsos negativos. Indica os erros e acertos do seu modelo, comparando com o resultado esperado;\n",
        "*   Acurácia: medida intuitiva que indica uma performance geral do modelo. Dentre todas as classificações, quantas o modelo classificou corretamente;\n",
        "*   Precisão: dentre todas as classificações de classe Positivo que o modelo fez, mostra quantas estão corretas. A precisão pode ser usada em uma situação em que os Falsos Positivos são considerados mais prejudiciais que os Falsos Negativos;\n",
        "*   Revocação/ Sensibilidade (Recall): dentre todas as situações de classe Positivo como valor esperado, quantas estão corretas. Pode ser usada em uma situação em que os Falsos Negativos são considerados mais prejudiciais que os Falsos Positivos;\n",
        "*   F1-Score: média harmônica entre precisão e recall. Ele será alto quando ambas as métricas base forem altas e similares, ou seja, é maior quando há um \"meio termo\" entre precisão e recall;\n",
        "*   Curva ROC: mostra a relação entre a taxa de verdadeiros positivos (true positive rate — TPR) e a taxa de falsos positivos (false positive rate — FPR) para diferentes thresholds. Se a curva ROC de um modelo se aproxima bastante do ponto (0.0, 1.0), na parte alta e esquerda do gráfico, esse modelo é bom;\n",
        "*   ROC AUC Score: para medir a proximidade com o ponto (0.0, 1.0) utiliza-se a área sob a curva ROC (area under the curve — AUC). Quanto mais próximo de 1.0 é o score da área sob a curva ROC, melhor é o modelo;\n",
        "*   Curva Precision-Recall: plota a relação entre precisão e revocação à medida que o limite de decisão é alterado. Uma boa curva PR tem maior AUC (área sob a curva). A precisão ajuda a destacar a relevância dos resultados de revocação (quanto mais próximo das partes alta e direita do gráfico, melhor);\n",
        "*   Average Precision (AP): área debaixo da curva de precision X recall. Útil para comparar diferentes modelos de detecção de objetos."
      ]
    },
    {
      "cell_type": "markdown",
      "metadata": {
        "id": "WcPlSTNl81_b"
      },
      "source": [
        "<u>Tarefa: prever o tipo de vinho (tinto ou branco).</u>\n",
        "Começamos retirando a coluna \"target\" do conjunto, salvando essa estrutura em X.\n",
        "Em seguida, salvamos só a coluna \"target\" em Y."
      ]
    },
    {
      "cell_type": "code",
      "execution_count": 12,
      "metadata": {
        "id": "Jj-GvG0SpGYm"
      },
      "outputs": [],
      "source": [
        "X = df.drop(\"target\", axis = 1)\n",
        "y = df[\"target\"]"
      ]
    },
    {
      "cell_type": "markdown",
      "metadata": {
        "id": "j26Lquxl9Hw5"
      },
      "source": [
        "Transformando categorias em números, e normalizando números na escala 0-1:"
      ]
    },
    {
      "cell_type": "code",
      "execution_count": 13,
      "metadata": {
        "id": "CpZmpUkopM_X"
      },
      "outputs": [],
      "source": [
        "transform_categorical(X)\n",
        "scale_numerical(X)"
      ]
    },
    {
      "cell_type": "markdown",
      "metadata": {
        "id": "C1-PHWr39LtB"
      },
      "source": [
        "Transformar também as classes de vinho (0 e 1):"
      ]
    },
    {
      "cell_type": "code",
      "execution_count": 14,
      "metadata": {
        "id": "9T2xWAZgpQ-m"
      },
      "outputs": [],
      "source": [
        "label_encoder = LabelEncoder()\n",
        "y = label_encoder.fit_transform(y)"
      ]
    },
    {
      "cell_type": "markdown",
      "metadata": {
        "id": "xuhK6BA39cq9"
      },
      "source": [
        "Dividindo os datasets X e Y em conjuntos de treino e teste.\n",
        "Definiu-se o tamanho do conjunto de teste em 20% (logo, treino será 80%). Já \"random_state\" é usado para reproduzir o problema da mesma forma toda vez que é executado (controla o \"embaralhamento\")."
      ]
    },
    {
      "cell_type": "code",
      "execution_count": 15,
      "metadata": {
        "id": "gw49GExTpTXs"
      },
      "outputs": [],
      "source": [
        "X_train, X_test, y_train, y_test = train_test_split(X, y, test_size=0.20, random_state=42)"
      ]
    },
    {
      "cell_type": "markdown",
      "metadata": {
        "id": "lJLucwOW99sN"
      },
      "source": [
        "Função para rodar o modelo (fit), realizar as predições (predict) e calcular os scores de desempenho) para técnicas de Classificação aplicadas."
      ]
    },
    {
      "cell_type": "code",
      "execution_count": null,
      "metadata": {
        "id": "j9RmpAAwpaaE"
      },
      "outputs": [],
      "source": [
        "def run_experiment_classification(model, name):\n",
        "    # inserir código aqui"
      ]
    },
    {
      "cell_type": "markdown",
      "metadata": {
        "id": "huU_QkSJ-300"
      },
      "source": [
        "Construindo um modelo de Random Forest, e testando seu desempenho na predição de resultados:"
      ]
    },
    {
      "cell_type": "code",
      "execution_count": 16,
      "metadata": {
        "id": "o6VdvCFtqAem"
      },
      "outputs": [
        {
          "name": "stdout",
          "output_type": "stream",
          "text": [
            "Métricas de desempenho do modelo Random Forest para regressão:\n",
            "Mean Squared Error (MSE): 0.008230285256410256\n",
            "Mean Absolute Error (MAE): 0.02025\n",
            "R-squared (R2): 0.9574667463256468\n"
          ]
        }
      ],
      "source": [
        "modelo_random_forest = RandomForestRegressor(random_state=42)\n",
        "\n",
        "# Ajustar o modelo aos dados de treinamento\n",
        "modelo_random_forest.fit(X_train, y_train)\n",
        "\n",
        "# Fazer previsões nos dados de teste\n",
        "y_pred = modelo_random_forest.predict(X_test)\n",
        "\n",
        "# Calcular métricas de desempenho\n",
        "mse = mean_squared_error(y_test, y_pred)\n",
        "mae = mean_absolute_error(y_test, y_pred)\n",
        "r2 = r2_score(y_test, y_pred)\n",
        "\n",
        "# Imprimir os resultados\n",
        "print(\"Métricas de desempenho do modelo Random Forest para regressão:\")\n",
        "print(f\"Mean Squared Error (MSE): {mse}\")\n",
        "print(f\"Mean Absolute Error (MAE): {mae}\")\n",
        "print(f\"R-squared (R2): {r2}\")"
      ]
    },
    {
      "cell_type": "markdown",
      "metadata": {
        "id": "AQh0F3yf-9nM"
      },
      "source": [
        "Construindo um modelo de Árvore de Decisão, e testando seu desempenho na predição de resultados:"
      ]
    },
    {
      "cell_type": "code",
      "execution_count": 17,
      "metadata": {
        "id": "TKkW7QTFqIDk"
      },
      "outputs": [
        {
          "name": "stdout",
          "output_type": "stream",
          "text": [
            "Métricas de desempenho do modelo de Árvore de Decisão para regressão:\n",
            "Mean Squared Error (MSE): 0.016923076923076923\n",
            "Mean Absolute Error (MAE): 0.016923076923076923\n",
            "R-squared (R2): 0.9125433078811934\n"
          ]
        }
      ],
      "source": [
        "from sklearn.tree import DecisionTreeRegressor\n",
        "# Criar um modelo de Árvore de Decisão para regressão\n",
        "modelo_arvore_decisao = DecisionTreeRegressor(random_state=42)\n",
        "\n",
        "# Ajustar o modelo aos dados de treinamento\n",
        "modelo_arvore_decisao.fit(X_train, y_train)\n",
        "\n",
        "# Fazer previsões nos dados de teste\n",
        "y_pred = modelo_arvore_decisao.predict(X_test)\n",
        "\n",
        "# Calcular métricas de desempenho\n",
        "mse = mean_squared_error(y_test, y_pred)\n",
        "mae = mean_absolute_error(y_test, y_pred)\n",
        "r2 = r2_score(y_test, y_pred)\n",
        "\n",
        "# Imprimir os resultados\n",
        "print(\"Métricas de desempenho do modelo de Árvore de Decisão para regressão:\")\n",
        "print(f\"Mean Squared Error (MSE): {mse}\")\n",
        "print(f\"Mean Absolute Error (MAE): {mae}\")\n",
        "print(f\"R-squared (R2): {r2}\")"
      ]
    },
    {
      "cell_type": "markdown",
      "metadata": {
        "id": "Ia7LJubMYLOY"
      },
      "source": [
        "Construindo um modelo de Análise Discriminante Linear, e testando seu desempenho na predição de resultados:"
      ]
    },
    {
      "cell_type": "code",
      "execution_count": 19,
      "metadata": {
        "id": "OVj4ysA0YL2_"
      },
      "outputs": [
        {
          "name": "stdout",
          "output_type": "stream",
          "text": [
            "Acurácia do modelo: 0.9930769230769231\n",
            "Relatório de Classificação:\n",
            "               precision    recall  f1-score   support\n",
            "\n",
            "           0       0.99      0.98      0.99       341\n",
            "           1       0.99      1.00      1.00       959\n",
            "\n",
            "    accuracy                           0.99      1300\n",
            "   macro avg       0.99      0.99      0.99      1300\n",
            "weighted avg       0.99      0.99      0.99      1300\n",
            "\n"
          ]
        }
      ],
      "source": [
        "from sklearn.metrics import accuracy_score, classification_report\n",
        "# Criar um modelo de Análise Discriminante Linear (LDA)\n",
        "modelo_lda = LinearDiscriminantAnalysis()\n",
        "\n",
        "# Ajustar o modelo aos dados de treinamento\n",
        "modelo_lda.fit(X_train, y_train)\n",
        "\n",
        "# Fazer previsões nos dados de teste\n",
        "y_pred = modelo_lda.predict(X_test)\n",
        "\n",
        "# Calcular a acurácia do modelo\n",
        "acuracia = accuracy_score(y_test, y_pred)\n",
        "\n",
        "# Imprimir a acurácia e o relatório de classificação\n",
        "print(f\"Acurácia do modelo: {acuracia}\")\n",
        "print(\"Relatório de Classificação:\\n\", classification_report(y_test, y_pred))"
      ]
    },
    {
      "cell_type": "code",
      "execution_count": 29,
      "metadata": {},
      "outputs": [],
      "source": [
        "def run_experiment_classification(model, name):\n",
        "    model.fit(X_train, y_train)\n",
        "\n",
        "    y_pred = model.predict(X_test)\n",
        "\n",
        "    cm = confusion_matrix(y_test, y_pred, labels=model.classes_)\n",
        "    disp = ConfusionMatrixDisplay(confusion_matrix=cm, display_labels=model.classes_)\n",
        "    disp.plot(cmap='GnBu')\n",
        "    _ = disp.ax_.set_title(\"Matriz de confusÃ£o\")\n",
        "    plt.show()\n",
        "\n",
        "    print('====================')\n",
        "    print('Precision....: %.3f' % precision_score(y_test, y_pred))\n",
        "    print('Recall.......: %.3f' % recall_score(y_test, y_pred))\n",
        "    print('F1 Score.....: %.3f' % f1_score(y_test, y_pred))\n",
        "    print('Accuracy.....: %.3f' % accuracy_score(y_test, y_pred))\n",
        "    print('F-Beta Score.: %.3f' % fbeta_score(y_test, y_pred, average='micro', beta=0.5))\n",
        "    print('Roc AUC Score: %.3f' % roc_auc_score(y_test, y_pred, average='micro'))\n",
        "    print('====================')\n",
        "\n",
        "    fpr, tpr, thresholds = roc_curve(y_test, y_pred)\n",
        "    plt.xlabel('Taxa de Falsos Positivos')\n",
        "    plt.ylabel('Taxa de Verdadeiros Positivos')\n",
        "    plt.title('Curva ROC')\n",
        "    plt.plot(fpr, tpr)\n",
        "    plt.show()\n",
        "\n",
        "    print('')\n",
        "    pr, rc, th = precision_recall_curve(y_test, y_pred)\n",
        "    disp = PrecisionRecallDisplay(precision=pr, recall=rc, estimator_name=name, average_precision=average_precision_score(y_test, y_pred, average='micro'))\n",
        "    disp.plot()\n",
        "    _ = disp.ax_.set_title(\"Curva Precision Recall\")\n",
        "    plt.show()"
      ]
    },
    {
      "cell_type": "code",
      "execution_count": 30,
      "metadata": {},
      "outputs": [
        {
          "data": {
            "image/png": "[encoded data removed]",
            "text/plain": [
              "<Figure size 640x480 with 2 Axes>"
            ]
          },
          "metadata": {},
          "output_type": "display_data"
        },
        {
          "name": "stdout",
          "output_type": "stream",
          "text": [
            "====================\n",
            "Precision....: 0.994\n",
            "Recall.......: 0.997\n",
            "F1 Score.....: 0.995\n",
            "Accuracy.....: 0.993\n",
            "F-Beta Score.: 0.993\n",
            "Roc AUC Score: 0.990\n",
            "====================\n"
          ]
        },
        {
          "data": {
            "image/png": "[encoded data removed]",
            "text/plain": [
              "<Figure size 640x480 with 1 Axes>"
            ]
          },
          "metadata": {},
          "output_type": "display_data"
        },
        {
          "name": "stdout",
          "output_type": "stream",
          "text": [
            "\n"
          ]
        },
        {
          "data": {
            "image/png": "[encoded data removed]",
            "text/plain": [
              "<Figure size 640x480 with 1 Axes>"
            ]
          },
          "metadata": {},
          "output_type": "display_data"
        }
      ],
      "source": [
        "run_experiment_classification(modelo_lda, \"LDA\")"
      ]
    }
  ],
  "metadata": {
    "colab": {
      "provenance": []
    },
    "kernelspec": {
      "display_name": "Python 3",
      "name": "python3"
    },
    "language_info": {
      "codemirror_mode": {
        "name": "ipython",
        "version": 3
      },
      "file_extension": ".py",
      "mimetype": "text/x-python",
      "name": "python",
      "nbconvert_exporter": "python",
      "pygments_lexer": "ipython3",
      "version": "3.10.11"
    }
  },
  "nbformat": 4,
  "nbformat_minor": 0
}
